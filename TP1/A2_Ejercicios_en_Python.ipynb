{
  "nbformat": 4,
  "nbformat_minor": 0,
  "metadata": {
    "colab": {
      "provenance": [],
      "include_colab_link": true
    },
    "kernelspec": {
      "name": "python3",
      "display_name": "Python 3"
    },
    "language_info": {
      "name": "python"
    }
  },
  "cells": [
    {
      "cell_type": "markdown",
      "metadata": {
        "id": "view-in-github",
        "colab_type": "text"
      },
      "source": [
        "<a href=\"https://colab.research.google.com/github/AlanAcero/KKKKK/blob/main/TP1/A2_Ejercicios_en_Python.ipynb\" target=\"_parent\"><img src=\"https://colab.research.google.com/assets/colab-badge.svg\" alt=\"Open In Colab\"/></a>"
      ]
    },
    {
      "cell_type": "code",
      "execution_count": null,
      "metadata": {
        "id": "AprRSkO3CC2U",
        "colab": {
          "base_uri": "https://localhost:8080/"
        },
        "outputId": "a2a66790-8739-4588-abe1-1168b860ec1a"
      },
      "outputs": [
        {
          "output_type": "stream",
          "name": "stdout",
          "text": [
            "Ingresa un número877\n",
            "El número ingresado es impar\n"
          ]
        }
      ],
      "source": [
        "#numero par-impar\n",
        "numero = int(input(\"Ingresa un número\"))\n",
        "\n",
        "if numero % 2 != 0:\n",
        "\n",
        "    print(\"El número ingresado es impar\")\n",
        "\n",
        "else:\n",
        "\n",
        "\n",
        "     print(\"El número ingresado es par\")"
      ]
    },
    {
      "cell_type": "code",
      "source": [
        "#Lista con numeros ingresados por el usuario\n",
        "\n",
        "lista_numeros = []\n",
        "cantidad_numeros = int(input(\"Ingresa la cantidad de numeros que tendra la lista: \"))\n",
        "\n",
        "for i in range(1,cantidad_numeros+1):\n",
        "\n",
        "    n = int(input(\"Ingresa un número: \"))\n",
        "    lista_numeros.append(n)\n",
        "\n",
        "else:\n",
        "\n",
        "    print(\"Lista \",lista_numeros)\n",
        "    lista_numeros.reverse()\n",
        "    print(\"Lista Invertida\",lista_numeros)"
      ],
      "metadata": {
        "id": "utOyY4ElCKiu"
      },
      "execution_count": null,
      "outputs": []
    },
    {
      "cell_type": "code",
      "source": [
        "#Adivina el numero\n",
        "import random\n",
        "\n",
        "n = random.randrange(1,100)\n",
        "\n",
        "print(\"Bienvenido a ¡Adivina el numero secreto! \")\n",
        "\n",
        "numero = int(input(\"Ingresa un número: \"))\n",
        "\n",
        "\n",
        "while True:\n",
        "\n",
        "\n",
        "    if numero == n:\n",
        "\n",
        "        print(f\"Adivinaste, el número secreto es {numero}\")\n",
        "        print(\"Fin del juego\")\n",
        "        break\n",
        "\n",
        "    elif numero > n:\n",
        "\n",
        "        print(f\"No adivinaste, el numero secreto es menor al numero {numero} intenta nuevamente.\")\n",
        "\n",
        "\n",
        "    elif numero < n:\n",
        "\n",
        "        print(f\"No adivinaste, el numero secreto es mayor al número {numero}  intenta nuevamente.\")\n",
        "\n",
        "\n",
        "    numero = int(input(\"Igresa un número: \"))\n"
      ],
      "metadata": {
        "id": "bOrry6jVCOty",
        "colab": {
          "base_uri": "https://localhost:8080/"
        },
        "outputId": "8ca7f082-6d1c-4251-d7ad-c8afd45617eb"
      },
      "execution_count": null,
      "outputs": [
        {
          "output_type": "stream",
          "name": "stdout",
          "text": [
            "Bienvenido a ¡Adivina el numero secreto! \n",
            "Ingresa un número: 38\n",
            "No adivinaste, el numero secreto es mayor al número 38  intenta nuevamente.\n",
            "Igresa un número: 50\n",
            "No adivinaste, el numero secreto es mayor al número 50  intenta nuevamente.\n",
            "Igresa un número: 70\n",
            "No adivinaste, el numero secreto es mayor al número 70  intenta nuevamente.\n",
            "Igresa un número: 80\n",
            "No adivinaste, el numero secreto es mayor al número 80  intenta nuevamente.\n",
            "Igresa un número: 90\n",
            "No adivinaste, el numero secreto es menor al numero 90 intenta nuevamente.\n",
            "Igresa un número: 85\n",
            "No adivinaste, el numero secreto es mayor al número 85  intenta nuevamente.\n",
            "Igresa un número: 86\n",
            "No adivinaste, el numero secreto es mayor al número 86  intenta nuevamente.\n"
          ]
        }
      ]
    },
    {
      "cell_type": "code",
      "source": [
        "#Números primos en un rango dado\n",
        "\n",
        "\n",
        "#Función para identificar los números primos\n",
        "def numero_primo(n):\n",
        "\n",
        "    for i in range(2,n):\n",
        "\n",
        "        if n % i == 0:\n",
        "            return False\n",
        "        else:\n",
        "\n",
        "            return True\n",
        "\n",
        "print(\"Genera un rango de números\")\n",
        "numero_inicio = int(input(\"Ingresa el número para el inicio del rango: \"))\n",
        "numero_fin = int(input(\"Ingresa el número para el fin del rango: \"))\n",
        "\n",
        "rango_numeros = [i for i in range(numero_inicio,numero_fin+1)]\n",
        "\n",
        "print(\"El rango de números generado es \", rango_numeros)\n",
        "\n",
        "\n",
        "primos= []\n",
        "for i in rango_numeros:\n",
        "\n",
        "    if numero_primo(i) == True:\n",
        "\n",
        "        primos.append(i)\n",
        "\n",
        "\n",
        "\n",
        "print(\"Los números primos dentro de rango de números generado son: \",primos )\n"
      ],
      "metadata": {
        "id": "VvuyTBDSCqeB",
        "colab": {
          "base_uri": "https://localhost:8080/"
        },
        "outputId": "bf811b19-7370-4e53-80d5-cad23de55d4c"
      },
      "execution_count": null,
      "outputs": [
        {
          "output_type": "stream",
          "name": "stdout",
          "text": [
            "Genera un rango de números\n",
            "Ingresa el número para el inicio del rango: 1\n",
            "Ingresa el número para el fin del rango: 15\n",
            "El rango de números generado es  [1, 2, 3, 4, 5, 6, 7, 8, 9, 10, 11, 12, 13, 14, 15]\n",
            "Los números primos dentro de rango de números generado son:  [3, 5, 7, 9, 11, 13, 15]\n"
          ]
        }
      ]
    }
  ]
}